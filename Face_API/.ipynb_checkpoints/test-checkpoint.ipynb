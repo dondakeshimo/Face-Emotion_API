{
 "cells": [
  {
   "cell_type": "code",
   "execution_count": 3,
   "metadata": {
    "collapsed": false
   },
   "outputs": [
    {
     "name": "stdout",
     "output_type": "stream",
     "text": [
      "b'[{\"faceId\":\"704add37-d6aa-48ab-8b83-492926d20463\",\"faceRectangle\":{\"top\":708,\"left\":339,\"width\":783,\"height\":783},\"faceAttributes\":{\"gender\":\"female\",\"age\":23.6}}]'\n"
     ]
    }
   ],
   "source": [
    "import http.client, urllib.request, urllib.parse, urllib.error, base64\n",
    "\n",
    "headers = {\n",
    "    # Request headers\n",
    "    'Content-Type': 'application/json',\n",
    "\n",
    "    # NOTE: Replace the \"Ocp-Apim-Subscription-Key\" value with a valid subscription key.\n",
    "    'Ocp-Apim-Subscription-Key': 'ac434e7218f0481e829dc57046079142',\n",
    "}\n",
    "\n",
    "params = urllib.parse.urlencode({\n",
    "    # Request parameters\n",
    "    'returnFaceId': 'true',\n",
    "    'returnFaceLandmarks': 'false',\n",
    "    'returnFaceAttributes': 'age,gender',\n",
    "})\n",
    "\n",
    "try:\n",
    "    # NOTE: You must use the same location in your REST call as you used to obtain your subscription keys.\n",
    "    #   For example, if you obtained your subscription keys from westus, replace \"westcentralus\" in the \n",
    "    #   URL below with \"westus\".\n",
    "    conn = http.client.HTTPSConnection('westcentralus.api.cognitive.microsoft.com')\n",
    "    conn.request(\"POST\", \"/face/v1.0/detect?%s\" % params, \"{\\\"url\\\":\\\"http://img.horipro.co.jp/wp-content/uploads/sites/17/2014/09/4efa1206c3ddde742caafee8af2a531e.jpg\\\"}\", headers)\n",
    "    response = conn.getresponse()\n",
    "    data = response.read()\n",
    "    print(data)\n",
    "    conn.close()\n",
    "except Exception as e:\n",
    "    print(\"[Errno {0}] {1}\".format(e.errno, e.strerror))"
   ]
  },
  {
   "cell_type": "code",
   "execution_count": 2,
   "metadata": {
    "collapsed": false
   },
   "outputs": [
    {
     "name": "stdout",
     "output_type": "stream",
     "text": [
      "[{\"faceId\":\"c43a79cd-6bb6-424d-91ef-2e143cf61444\",\"faceRectangle\":{\"top\":133,\"left\":198,\"width\":191,\"height\":191},\"faceAttributes\":{\"gender\":\"female\",\"age\":27.2}}]\n"
     ]
    }
   ],
   "source": [
    "import sys\n",
    "import requests\n",
    "\n",
    "\n",
    "url = 'https://westus.api.cognitive.microsoft.com/face/v1.0/detect'\n",
    "headers = {\n",
    "    'Content-Type': 'application/octet-stream',\n",
    "    'Ocp-Apim-Subscription-Key': 'c1d3ab4f6c24425fb811813bf24c8a7f',\n",
    "}\n",
    "params = {\n",
    "    'returnFaceId': 'true',  # The default value is true.\n",
    "    'returnFaceLandmarks': 'false', # The default value is false.\n",
    "    'returnFaceAttributes': 'age,gender', # age, gender, headPose, smile, facialHair, and glasses.\n",
    "}\n",
    "if __name__ == '__main__':\n",
    "\n",
    "    r = requests.post(url ,headers = headers,params = params,data = open(\"1643_fukada_kyoko.jpg\",'rb'))\n",
    "\n",
    "    print(r.text)"
   ]
  },
  {
   "cell_type": "code",
   "execution_count": null,
   "metadata": {
    "collapsed": true
   },
   "outputs": [],
   "source": []
  }
 ],
 "metadata": {
  "anaconda-cloud": {},
  "kernelspec": {
   "display_name": "Python [Root]",
   "language": "python",
   "name": "Python [Root]"
  },
  "language_info": {
   "codemirror_mode": {
    "name": "ipython",
    "version": 3
   },
   "file_extension": ".py",
   "mimetype": "text/x-python",
   "name": "python",
   "nbconvert_exporter": "python",
   "pygments_lexer": "ipython3",
   "version": "3.5.1"
  }
 },
 "nbformat": 4,
 "nbformat_minor": 0
}
