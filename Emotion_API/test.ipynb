{
 "cells": [
  {
   "cell_type": "code",
   "execution_count": 1,
   "metadata": {
    "collapsed": false
   },
   "outputs": [
    {
     "name": "stdout",
     "output_type": "stream",
     "text": [
      "[{\"faceRectangle\":{\"height\":783,\"left\":339,\"top\":708,\"width\":783},\"scores\":{\"anger\":4.83580443E-05,\"contempt\":0.0011530855,\"disgust\":7.445373E-05,\"fear\":0.00015271669,\"happiness\":0.0037932964,\"neutral\":0.98582983,\"sadness\":0.00710687134,\"surprise\":0.00184137118}}]\n"
     ]
    }
   ],
   "source": [
    "import requests\n",
    "\n",
    "\n",
    "url = 'https://westus.api.cognitive.microsoft.com/emotion/v1.0/recognize'\n",
    "headers = {\n",
    "    'Content-Type': 'application/octet-stream',\n",
    "    'Ocp-Apim-Subscription-Key': '3c8a635a9b754dc2a5a48976222e25fd',\n",
    "}\n",
    "\n",
    "params = {}\n",
    "\n",
    "if __name__ == '__main__':\n",
    "\n",
    "    r = requests.post(url ,headers = headers,params = params,data = open(\"fukada_test.jpg\",'rb'))\n",
    "\n",
    "    print(r.text)"
   ]
  },
  {
   "cell_type": "code",
   "execution_count": 4,
   "metadata": {
    "collapsed": false
   },
   "outputs": [
    {
     "name": "stdout",
     "output_type": "stream",
     "text": [
      "[{\"faceRectangle\":{\"height\":783,\"left\":339,\"top\":708,\"width\":783},\"scores\":{\"anger\":4.83580443E-05,\"contempt\":0.0011530855,\"disgust\":7.445373E-05,\"fear\":0.00015271669,\"happiness\":0.0037932964,\"neutral\":0.98582983,\"sadness\":0.00710687134,\"surprise\":0.00184137118}}]\n"
     ]
    }
   ],
   "source": [
    "import requests\n",
    "import json\n",
    "\n",
    "url = 'https://westus.api.cognitive.microsoft.com/emotion/v1.0/recognize'\n",
    "image_url = \"http://img.horipro.co.jp/wp-content/uploads/sites/17/2014/09/4efa1206c3ddde742caafee8af2a531e.jpg\"\n",
    "headers = {\n",
    "    'Content-Type': 'application/json',\n",
    "    'Ocp-Apim-Subscription-Key': '3c8a635a9b754dc2a5a48976222e25fd',\n",
    "}\n",
    "\n",
    "params = {}\n",
    "\n",
    "payload = {\n",
    "    \"url\": image_url,\n",
    "}\n",
    "\n",
    "if __name__ == '__main__':\n",
    "\n",
    "    r = requests.post(url ,headers = headers,params = params,data = json.dumps(payload))\n",
    "\n",
    "    print(r.text)"
   ]
  },
  {
   "cell_type": "code",
   "execution_count": null,
   "metadata": {
    "collapsed": true
   },
   "outputs": [],
   "source": []
  }
 ],
 "metadata": {
  "kernelspec": {
   "display_name": "Python [Root]",
   "language": "python",
   "name": "Python [Root]"
  },
  "language_info": {
   "codemirror_mode": {
    "name": "ipython",
    "version": 3
   },
   "file_extension": ".py",
   "mimetype": "text/x-python",
   "name": "python",
   "nbconvert_exporter": "python",
   "pygments_lexer": "ipython3",
   "version": "3.5.1"
  }
 },
 "nbformat": 4,
 "nbformat_minor": 0
}
