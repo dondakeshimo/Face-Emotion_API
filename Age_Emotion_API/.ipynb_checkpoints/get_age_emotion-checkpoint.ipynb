{
 "cells": [
  {
   "cell_type": "code",
   "execution_count": 8,
   "metadata": {
    "collapsed": true
   },
   "outputs": [],
   "source": [
    "import os\n",
    "import sys\n",
    "import requests\n",
    "import json"
   ]
  },
  {
   "cell_type": "code",
   "execution_count": 9,
   "metadata": {
    "collapsed": false
   },
   "outputs": [],
   "source": [
    "# set api url and make header\n",
    "face_url = \"https://westus.api.cognitive.microsoft.com/face/v1.0/detect\"\n",
    "emo_url = \"https://westus.api.cognitive.microsoft.com/emotion/v1.0/recognize\"\n",
    "\n",
    "face_headers = {\n",
    "    \"content-Type\": \"application/json\",\n",
    "    \"Ocp-Apim-Subscription-Key\": \"c1d3ab4f6c24425fb811813bf24c8a7f\",\n",
    "}\n",
    "emo_headers = {\n",
    "    \"content-Type\": \"application/json\",\n",
    "    \"Ocp-Apim-Subscription-Key\": \"3c8a635a9b754dc2a5a48976222e25fd\",\n",
    "}\n",
    "\n",
    "face_params = {\n",
    "    'returnFaceId': 'true',\n",
    "    'returnFaceLandmarks': 'false',\n",
    "    'returnFaceAttributes': 'age,gender',\n",
    "}\n",
    "emo_params = {}"
   ]
  },
  {
   "cell_type": "code",
   "execution_count": 11,
   "metadata": {
    "collapsed": false
   },
   "outputs": [
    {
     "name": "stdout",
     "output_type": "stream",
     "text": [
      "[{\"faceId\":\"deb92365-2d36-422e-b442-04e317afc250\",\"faceRectangle\":{\"top\":708,\"left\":339,\"width\":783,\"height\":783},\"faceAttributes\":{\"gender\":\"female\",\"age\":23.6}}]\n",
      "[{\"faceRectangle\":{\"height\":783,\"left\":339,\"top\":708,\"width\":783},\"scores\":{\"anger\":4.83580443E-05,\"contempt\":0.0011530855,\"disgust\":7.445373E-05,\"fear\":0.00015271669,\"happiness\":0.0037932964,\"neutral\":0.98582983,\"sadness\":0.00710687134,\"surprise\":0.00184137118}}]\n"
     ]
    }
   ],
   "source": [
    "argv = sys.argv\n",
    "if len(argv) == 1:\n",
    "    print(\"Usage: # python {} [filename]\".format(argv[0]))\n",
    "    quit()\n",
    "    \n",
    "image_url = argv[1]\n",
    "\n",
    "#image_url = \"http://img.horipro.co.jp/wp-content/uploads/sites/17/2014/09/4efa1206c3ddde742caafee8af2a531e.jpg\"\n",
    "payload = {\n",
    "    \"url\": image_url\n",
    "}\n",
    "\n",
    "face = requests.post(face_url, headers=face_headers, params=face_params, data=json.dumps(payload))\n",
    "emo = requests.post(emo_url, headers=emo_headers, params=emo_params, data=json.dumps(payload))\n",
    "\n",
    "#print(face.text)\n",
    "#print(emo.text)\n"
   ]
  },
  {
   "cell_type": "code",
   "execution_count": 24,
   "metadata": {
    "collapsed": false
   },
   "outputs": [
    {
     "name": "stdout",
     "output_type": "stream",
     "text": [
      "I can send this json file: \n",
      " [{\"age\": 23.6}, {\"neutral\": 0.98582983}]\n"
     ]
    }
   ],
   "source": [
    "face_dict = json.loads(face.text)[0]\n",
    "emo_dict = json.loads(emo.text)[0][\"scores\"]\n",
    "\n",
    "age = face_dict[\"faceAttributes\"][\"age\"]\n",
    "emotion = max(emo_dict.items(), key=lambda x:x[1])\n",
    "\n",
    "to_json = [\n",
    "    {\"age\": age},\n",
    "    {emotion[0]: emotion[1]}\n",
    "]\n",
    "\n",
    "age_emotion_json = json.dumps(to_json)\n",
    "\n",
    "print(\"I can send this json file: \\n\", age_emotion_json)\n",
    "\n",
    "#print(\"I estimate that your age is {}, \".format(age))\n",
    "#print(\"and your emotion is [{0[0]}] with a {0[1]}% chance\".format(emotion))\n"
   ]
  },
  {
   "cell_type": "code",
   "execution_count": null,
   "metadata": {
    "collapsed": true
   },
   "outputs": [],
   "source": []
  }
 ],
 "metadata": {
  "anaconda-cloud": {},
  "kernelspec": {
   "display_name": "Python [Root]",
   "language": "python",
   "name": "Python [Root]"
  },
  "language_info": {
   "codemirror_mode": {
    "name": "ipython",
    "version": 3
   },
   "file_extension": ".py",
   "mimetype": "text/x-python",
   "name": "python",
   "nbconvert_exporter": "python",
   "pygments_lexer": "ipython3",
   "version": "3.5.1"
  }
 },
 "nbformat": 4,
 "nbformat_minor": 0
}
